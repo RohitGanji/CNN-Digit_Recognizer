{
  "nbformat": 4,
  "nbformat_minor": 0,
  "metadata": {
    "kernelspec": {
      "language": "python",
      "display_name": "Python 3",
      "name": "python3"
    },
    "language_info": {
      "name": "python",
      "version": "3.7.10",
      "mimetype": "text/x-python",
      "codemirror_mode": {
        "name": "ipython",
        "version": 3
      },
      "pygments_lexer": "ipython3",
      "nbconvert_exporter": "python",
      "file_extension": ".py"
    },
    "colab": {
      "name": "digit-recognizer.ipynb",
      "provenance": [],
      "include_colab_link": true
    }
  },
  "cells": [
    {
      "cell_type": "markdown",
      "metadata": {
        "id": "view-in-github",
        "colab_type": "text"
      },
      "source": [
        "<a href=\"https://colab.research.google.com/github/RohitGanji/NN-Digit_Recognizer/blob/main/Digit%20Recognizer%20-%20CNN.ipynb\" target=\"_parent\"><img src=\"https://colab.research.google.com/assets/colab-badge.svg\" alt=\"Open In Colab\"/></a>"
      ]
    },
    {
      "cell_type": "code",
      "metadata": {
        "_uuid": "8f2839f25d086af736a60e9eeb907d3b93b6e0e5",
        "_cell_guid": "b1076dfc-b9ad-4769-8c92-a6c4dae69d19",
        "execution": {
          "iopub.status.busy": "2021-08-14T13:53:16.913521Z",
          "iopub.execute_input": "2021-08-14T13:53:16.913937Z",
          "iopub.status.idle": "2021-08-14T13:53:16.927559Z",
          "shell.execute_reply.started": "2021-08-14T13:53:16.913904Z",
          "shell.execute_reply": "2021-08-14T13:53:16.926228Z"
        },
        "trusted": true,
        "id": "Kj8hq3fx9gIp",
        "outputId": "696ffbcc-5c17-4647-b236-06730df94006"
      },
      "source": [
        "# This Python 3 environment comes with many helpful analytics libraries installed\n",
        "# It is defined by the kaggle/python Docker image: https://github.com/kaggle/docker-python\n",
        "# For example, here's several helpful packages to load\n",
        "\n",
        "import numpy as np # linear algebra\n",
        "import pandas as pd # data processing, CSV file I/O (e.g. pd.read_csv)\n",
        "\n",
        "# Input data files are available in the read-only \"../input/\" directory\n",
        "# For example, running this (by clicking run or pressing Shift+Enter) will list all files under the input directory\n",
        "\n",
        "import os\n",
        "for dirname, _, filenames in os.walk('/kaggle/input'):\n",
        "    for filename in filenames:\n",
        "        print(os.path.join(dirname, filename))\n",
        "\n",
        "# You can write up to 20GB to the current directory (/kaggle/working/) that gets preserved as output when you create a version using \"Save & Run All\" \n",
        "# You can also write temporary files to /kaggle/temp/, but they won't be saved outside of the current session"
      ],
      "execution_count": null,
      "outputs": [
        {
          "output_type": "stream",
          "text": [
            "/kaggle/input/digit-recognizer/sample_submission.csv\n",
            "/kaggle/input/digit-recognizer/train.csv\n",
            "/kaggle/input/digit-recognizer/test.csv\n"
          ],
          "name": "stdout"
        }
      ]
    },
    {
      "cell_type": "code",
      "metadata": {
        "execution": {
          "iopub.status.busy": "2021-08-14T13:53:17.141300Z",
          "iopub.execute_input": "2021-08-14T13:53:17.141668Z",
          "iopub.status.idle": "2021-08-14T13:53:22.987408Z",
          "shell.execute_reply.started": "2021-08-14T13:53:17.141639Z",
          "shell.execute_reply": "2021-08-14T13:53:22.986155Z"
        },
        "trusted": true,
        "id": "HvK7F7eS9gIq"
      },
      "source": [
        "# Load data\n",
        "\n",
        "import pandas as pd\n",
        "\n",
        "train = pd.read_csv(\"/kaggle/input/digit-recognizer/train.csv\")\n",
        "test = pd.read_csv(\"/kaggle/input/digit-recognizer/test.csv\")"
      ],
      "execution_count": null,
      "outputs": []
    },
    {
      "cell_type": "code",
      "metadata": {
        "execution": {
          "iopub.status.busy": "2021-08-14T13:53:22.989661Z",
          "iopub.execute_input": "2021-08-14T13:53:22.990148Z",
          "iopub.status.idle": "2021-08-14T13:53:23.016160Z",
          "shell.execute_reply.started": "2021-08-14T13:53:22.990104Z",
          "shell.execute_reply": "2021-08-14T13:53:23.014617Z"
        },
        "trusted": true,
        "id": "rLE7ZK079gIq",
        "outputId": "8e458077-2d1a-45bc-e19a-e961de916cbb"
      },
      "source": [
        "train.head()"
      ],
      "execution_count": null,
      "outputs": [
        {
          "output_type": "execute_result",
          "data": {
            "text/plain": [
              "   label  pixel0  pixel1  pixel2  pixel3  pixel4  pixel5  pixel6  pixel7  \\\n",
              "0      1       0       0       0       0       0       0       0       0   \n",
              "1      0       0       0       0       0       0       0       0       0   \n",
              "2      1       0       0       0       0       0       0       0       0   \n",
              "3      4       0       0       0       0       0       0       0       0   \n",
              "4      0       0       0       0       0       0       0       0       0   \n",
              "\n",
              "   pixel8  ...  pixel774  pixel775  pixel776  pixel777  pixel778  pixel779  \\\n",
              "0       0  ...         0         0         0         0         0         0   \n",
              "1       0  ...         0         0         0         0         0         0   \n",
              "2       0  ...         0         0         0         0         0         0   \n",
              "3       0  ...         0         0         0         0         0         0   \n",
              "4       0  ...         0         0         0         0         0         0   \n",
              "\n",
              "   pixel780  pixel781  pixel782  pixel783  \n",
              "0         0         0         0         0  \n",
              "1         0         0         0         0  \n",
              "2         0         0         0         0  \n",
              "3         0         0         0         0  \n",
              "4         0         0         0         0  \n",
              "\n",
              "[5 rows x 785 columns]"
            ],
            "text/html": [
              "<div>\n",
              "<style scoped>\n",
              "    .dataframe tbody tr th:only-of-type {\n",
              "        vertical-align: middle;\n",
              "    }\n",
              "\n",
              "    .dataframe tbody tr th {\n",
              "        vertical-align: top;\n",
              "    }\n",
              "\n",
              "    .dataframe thead th {\n",
              "        text-align: right;\n",
              "    }\n",
              "</style>\n",
              "<table border=\"1\" class=\"dataframe\">\n",
              "  <thead>\n",
              "    <tr style=\"text-align: right;\">\n",
              "      <th></th>\n",
              "      <th>label</th>\n",
              "      <th>pixel0</th>\n",
              "      <th>pixel1</th>\n",
              "      <th>pixel2</th>\n",
              "      <th>pixel3</th>\n",
              "      <th>pixel4</th>\n",
              "      <th>pixel5</th>\n",
              "      <th>pixel6</th>\n",
              "      <th>pixel7</th>\n",
              "      <th>pixel8</th>\n",
              "      <th>...</th>\n",
              "      <th>pixel774</th>\n",
              "      <th>pixel775</th>\n",
              "      <th>pixel776</th>\n",
              "      <th>pixel777</th>\n",
              "      <th>pixel778</th>\n",
              "      <th>pixel779</th>\n",
              "      <th>pixel780</th>\n",
              "      <th>pixel781</th>\n",
              "      <th>pixel782</th>\n",
              "      <th>pixel783</th>\n",
              "    </tr>\n",
              "  </thead>\n",
              "  <tbody>\n",
              "    <tr>\n",
              "      <th>0</th>\n",
              "      <td>1</td>\n",
              "      <td>0</td>\n",
              "      <td>0</td>\n",
              "      <td>0</td>\n",
              "      <td>0</td>\n",
              "      <td>0</td>\n",
              "      <td>0</td>\n",
              "      <td>0</td>\n",
              "      <td>0</td>\n",
              "      <td>0</td>\n",
              "      <td>...</td>\n",
              "      <td>0</td>\n",
              "      <td>0</td>\n",
              "      <td>0</td>\n",
              "      <td>0</td>\n",
              "      <td>0</td>\n",
              "      <td>0</td>\n",
              "      <td>0</td>\n",
              "      <td>0</td>\n",
              "      <td>0</td>\n",
              "      <td>0</td>\n",
              "    </tr>\n",
              "    <tr>\n",
              "      <th>1</th>\n",
              "      <td>0</td>\n",
              "      <td>0</td>\n",
              "      <td>0</td>\n",
              "      <td>0</td>\n",
              "      <td>0</td>\n",
              "      <td>0</td>\n",
              "      <td>0</td>\n",
              "      <td>0</td>\n",
              "      <td>0</td>\n",
              "      <td>0</td>\n",
              "      <td>...</td>\n",
              "      <td>0</td>\n",
              "      <td>0</td>\n",
              "      <td>0</td>\n",
              "      <td>0</td>\n",
              "      <td>0</td>\n",
              "      <td>0</td>\n",
              "      <td>0</td>\n",
              "      <td>0</td>\n",
              "      <td>0</td>\n",
              "      <td>0</td>\n",
              "    </tr>\n",
              "    <tr>\n",
              "      <th>2</th>\n",
              "      <td>1</td>\n",
              "      <td>0</td>\n",
              "      <td>0</td>\n",
              "      <td>0</td>\n",
              "      <td>0</td>\n",
              "      <td>0</td>\n",
              "      <td>0</td>\n",
              "      <td>0</td>\n",
              "      <td>0</td>\n",
              "      <td>0</td>\n",
              "      <td>...</td>\n",
              "      <td>0</td>\n",
              "      <td>0</td>\n",
              "      <td>0</td>\n",
              "      <td>0</td>\n",
              "      <td>0</td>\n",
              "      <td>0</td>\n",
              "      <td>0</td>\n",
              "      <td>0</td>\n",
              "      <td>0</td>\n",
              "      <td>0</td>\n",
              "    </tr>\n",
              "    <tr>\n",
              "      <th>3</th>\n",
              "      <td>4</td>\n",
              "      <td>0</td>\n",
              "      <td>0</td>\n",
              "      <td>0</td>\n",
              "      <td>0</td>\n",
              "      <td>0</td>\n",
              "      <td>0</td>\n",
              "      <td>0</td>\n",
              "      <td>0</td>\n",
              "      <td>0</td>\n",
              "      <td>...</td>\n",
              "      <td>0</td>\n",
              "      <td>0</td>\n",
              "      <td>0</td>\n",
              "      <td>0</td>\n",
              "      <td>0</td>\n",
              "      <td>0</td>\n",
              "      <td>0</td>\n",
              "      <td>0</td>\n",
              "      <td>0</td>\n",
              "      <td>0</td>\n",
              "    </tr>\n",
              "    <tr>\n",
              "      <th>4</th>\n",
              "      <td>0</td>\n",
              "      <td>0</td>\n",
              "      <td>0</td>\n",
              "      <td>0</td>\n",
              "      <td>0</td>\n",
              "      <td>0</td>\n",
              "      <td>0</td>\n",
              "      <td>0</td>\n",
              "      <td>0</td>\n",
              "      <td>0</td>\n",
              "      <td>...</td>\n",
              "      <td>0</td>\n",
              "      <td>0</td>\n",
              "      <td>0</td>\n",
              "      <td>0</td>\n",
              "      <td>0</td>\n",
              "      <td>0</td>\n",
              "      <td>0</td>\n",
              "      <td>0</td>\n",
              "      <td>0</td>\n",
              "      <td>0</td>\n",
              "    </tr>\n",
              "  </tbody>\n",
              "</table>\n",
              "<p>5 rows × 785 columns</p>\n",
              "</div>"
            ]
          },
          "metadata": {
            "tags": []
          },
          "execution_count": 38
        }
      ]
    },
    {
      "cell_type": "code",
      "metadata": {
        "execution": {
          "iopub.status.busy": "2021-08-14T13:53:23.019228Z",
          "iopub.execute_input": "2021-08-14T13:53:23.019761Z",
          "iopub.status.idle": "2021-08-14T13:53:23.045395Z",
          "shell.execute_reply.started": "2021-08-14T13:53:23.019716Z",
          "shell.execute_reply": "2021-08-14T13:53:23.043934Z"
        },
        "trusted": true,
        "id": "bViBTDeZ9gIq",
        "outputId": "7ccb3383-f001-420c-85f7-d7c63d8b1ed4"
      },
      "source": [
        "test.head()"
      ],
      "execution_count": null,
      "outputs": [
        {
          "output_type": "execute_result",
          "data": {
            "text/plain": [
              "   pixel0  pixel1  pixel2  pixel3  pixel4  pixel5  pixel6  pixel7  pixel8  \\\n",
              "0       0       0       0       0       0       0       0       0       0   \n",
              "1       0       0       0       0       0       0       0       0       0   \n",
              "2       0       0       0       0       0       0       0       0       0   \n",
              "3       0       0       0       0       0       0       0       0       0   \n",
              "4       0       0       0       0       0       0       0       0       0   \n",
              "\n",
              "   pixel9  ...  pixel774  pixel775  pixel776  pixel777  pixel778  pixel779  \\\n",
              "0       0  ...         0         0         0         0         0         0   \n",
              "1       0  ...         0         0         0         0         0         0   \n",
              "2       0  ...         0         0         0         0         0         0   \n",
              "3       0  ...         0         0         0         0         0         0   \n",
              "4       0  ...         0         0         0         0         0         0   \n",
              "\n",
              "   pixel780  pixel781  pixel782  pixel783  \n",
              "0         0         0         0         0  \n",
              "1         0         0         0         0  \n",
              "2         0         0         0         0  \n",
              "3         0         0         0         0  \n",
              "4         0         0         0         0  \n",
              "\n",
              "[5 rows x 784 columns]"
            ],
            "text/html": [
              "<div>\n",
              "<style scoped>\n",
              "    .dataframe tbody tr th:only-of-type {\n",
              "        vertical-align: middle;\n",
              "    }\n",
              "\n",
              "    .dataframe tbody tr th {\n",
              "        vertical-align: top;\n",
              "    }\n",
              "\n",
              "    .dataframe thead th {\n",
              "        text-align: right;\n",
              "    }\n",
              "</style>\n",
              "<table border=\"1\" class=\"dataframe\">\n",
              "  <thead>\n",
              "    <tr style=\"text-align: right;\">\n",
              "      <th></th>\n",
              "      <th>pixel0</th>\n",
              "      <th>pixel1</th>\n",
              "      <th>pixel2</th>\n",
              "      <th>pixel3</th>\n",
              "      <th>pixel4</th>\n",
              "      <th>pixel5</th>\n",
              "      <th>pixel6</th>\n",
              "      <th>pixel7</th>\n",
              "      <th>pixel8</th>\n",
              "      <th>pixel9</th>\n",
              "      <th>...</th>\n",
              "      <th>pixel774</th>\n",
              "      <th>pixel775</th>\n",
              "      <th>pixel776</th>\n",
              "      <th>pixel777</th>\n",
              "      <th>pixel778</th>\n",
              "      <th>pixel779</th>\n",
              "      <th>pixel780</th>\n",
              "      <th>pixel781</th>\n",
              "      <th>pixel782</th>\n",
              "      <th>pixel783</th>\n",
              "    </tr>\n",
              "  </thead>\n",
              "  <tbody>\n",
              "    <tr>\n",
              "      <th>0</th>\n",
              "      <td>0</td>\n",
              "      <td>0</td>\n",
              "      <td>0</td>\n",
              "      <td>0</td>\n",
              "      <td>0</td>\n",
              "      <td>0</td>\n",
              "      <td>0</td>\n",
              "      <td>0</td>\n",
              "      <td>0</td>\n",
              "      <td>0</td>\n",
              "      <td>...</td>\n",
              "      <td>0</td>\n",
              "      <td>0</td>\n",
              "      <td>0</td>\n",
              "      <td>0</td>\n",
              "      <td>0</td>\n",
              "      <td>0</td>\n",
              "      <td>0</td>\n",
              "      <td>0</td>\n",
              "      <td>0</td>\n",
              "      <td>0</td>\n",
              "    </tr>\n",
              "    <tr>\n",
              "      <th>1</th>\n",
              "      <td>0</td>\n",
              "      <td>0</td>\n",
              "      <td>0</td>\n",
              "      <td>0</td>\n",
              "      <td>0</td>\n",
              "      <td>0</td>\n",
              "      <td>0</td>\n",
              "      <td>0</td>\n",
              "      <td>0</td>\n",
              "      <td>0</td>\n",
              "      <td>...</td>\n",
              "      <td>0</td>\n",
              "      <td>0</td>\n",
              "      <td>0</td>\n",
              "      <td>0</td>\n",
              "      <td>0</td>\n",
              "      <td>0</td>\n",
              "      <td>0</td>\n",
              "      <td>0</td>\n",
              "      <td>0</td>\n",
              "      <td>0</td>\n",
              "    </tr>\n",
              "    <tr>\n",
              "      <th>2</th>\n",
              "      <td>0</td>\n",
              "      <td>0</td>\n",
              "      <td>0</td>\n",
              "      <td>0</td>\n",
              "      <td>0</td>\n",
              "      <td>0</td>\n",
              "      <td>0</td>\n",
              "      <td>0</td>\n",
              "      <td>0</td>\n",
              "      <td>0</td>\n",
              "      <td>...</td>\n",
              "      <td>0</td>\n",
              "      <td>0</td>\n",
              "      <td>0</td>\n",
              "      <td>0</td>\n",
              "      <td>0</td>\n",
              "      <td>0</td>\n",
              "      <td>0</td>\n",
              "      <td>0</td>\n",
              "      <td>0</td>\n",
              "      <td>0</td>\n",
              "    </tr>\n",
              "    <tr>\n",
              "      <th>3</th>\n",
              "      <td>0</td>\n",
              "      <td>0</td>\n",
              "      <td>0</td>\n",
              "      <td>0</td>\n",
              "      <td>0</td>\n",
              "      <td>0</td>\n",
              "      <td>0</td>\n",
              "      <td>0</td>\n",
              "      <td>0</td>\n",
              "      <td>0</td>\n",
              "      <td>...</td>\n",
              "      <td>0</td>\n",
              "      <td>0</td>\n",
              "      <td>0</td>\n",
              "      <td>0</td>\n",
              "      <td>0</td>\n",
              "      <td>0</td>\n",
              "      <td>0</td>\n",
              "      <td>0</td>\n",
              "      <td>0</td>\n",
              "      <td>0</td>\n",
              "    </tr>\n",
              "    <tr>\n",
              "      <th>4</th>\n",
              "      <td>0</td>\n",
              "      <td>0</td>\n",
              "      <td>0</td>\n",
              "      <td>0</td>\n",
              "      <td>0</td>\n",
              "      <td>0</td>\n",
              "      <td>0</td>\n",
              "      <td>0</td>\n",
              "      <td>0</td>\n",
              "      <td>0</td>\n",
              "      <td>...</td>\n",
              "      <td>0</td>\n",
              "      <td>0</td>\n",
              "      <td>0</td>\n",
              "      <td>0</td>\n",
              "      <td>0</td>\n",
              "      <td>0</td>\n",
              "      <td>0</td>\n",
              "      <td>0</td>\n",
              "      <td>0</td>\n",
              "      <td>0</td>\n",
              "    </tr>\n",
              "  </tbody>\n",
              "</table>\n",
              "<p>5 rows × 784 columns</p>\n",
              "</div>"
            ]
          },
          "metadata": {
            "tags": []
          },
          "execution_count": 39
        }
      ]
    },
    {
      "cell_type": "code",
      "metadata": {
        "execution": {
          "iopub.status.busy": "2021-08-14T13:53:23.048176Z",
          "iopub.execute_input": "2021-08-14T13:53:23.048637Z",
          "iopub.status.idle": "2021-08-14T13:53:23.475997Z",
          "shell.execute_reply.started": "2021-08-14T13:53:23.048594Z",
          "shell.execute_reply": "2021-08-14T13:53:23.474755Z"
        },
        "trusted": true,
        "id": "R0PBgrV19gIr"
      },
      "source": [
        "# Reshape and normalize\n",
        "X = train.drop('label', axis = 1)\n",
        "y = train['label']\n",
        "\n",
        "# Normalize and Reshape\n",
        "X = X.astype('float32') / 255.0\n",
        "X = X.values.reshape(-1, 28, 28, 1)\n",
        "\n",
        "X_test = test.astype('float32') / 255.0\n",
        "X_test = X_test.values.reshape(-1, 28, 28, 1)"
      ],
      "execution_count": null,
      "outputs": []
    },
    {
      "cell_type": "code",
      "metadata": {
        "execution": {
          "iopub.status.busy": "2021-08-14T13:53:23.477998Z",
          "iopub.execute_input": "2021-08-14T13:53:23.478422Z",
          "iopub.status.idle": "2021-08-14T13:53:24.081750Z",
          "shell.execute_reply.started": "2021-08-14T13:53:23.478375Z",
          "shell.execute_reply": "2021-08-14T13:53:24.080372Z"
        },
        "trusted": true,
        "id": "VtQaJpXK9gIr",
        "outputId": "a9a1ea8d-c7c8-4418-da71-a518cc404de3"
      },
      "source": [
        "# Split into train and test data\n",
        "\n",
        "from sklearn.model_selection import train_test_split\n",
        "\n",
        "X_train, X_val, y_train, y_val = train_test_split(X, y, test_size = 0.2)\n",
        "print(X_train.shape, X_val.shape, y_train.shape, y_val.shape)"
      ],
      "execution_count": null,
      "outputs": [
        {
          "output_type": "stream",
          "text": [
            "(33600, 28, 28, 1) (8400, 28, 28, 1) (33600,) (8400,)\n"
          ],
          "name": "stdout"
        }
      ]
    },
    {
      "cell_type": "code",
      "metadata": {
        "execution": {
          "iopub.status.busy": "2021-08-14T13:53:24.083648Z",
          "iopub.execute_input": "2021-08-14T13:53:24.084112Z",
          "iopub.status.idle": "2021-08-14T13:53:24.095187Z",
          "shell.execute_reply.started": "2021-08-14T13:53:24.084066Z",
          "shell.execute_reply": "2021-08-14T13:53:24.093682Z"
        },
        "trusted": true,
        "id": "qNJjIhpm9gIr",
        "outputId": "966ca810-3e35-480c-e778-ee1a9bdbba71"
      },
      "source": [
        "# Convert y to categorical\n",
        "\n",
        "import tensorflow as tf\n",
        "\n",
        "classes = len(np.unique(y_train))\n",
        "print(classes)\n",
        "\n",
        "y_train = tf.keras.utils.to_categorical(y_train, classes)\n",
        "y_val = tf.keras.utils.to_categorical(y_val, classes)"
      ],
      "execution_count": null,
      "outputs": [
        {
          "output_type": "stream",
          "text": [
            "10\n"
          ],
          "name": "stdout"
        }
      ]
    },
    {
      "cell_type": "code",
      "metadata": {
        "execution": {
          "iopub.status.busy": "2021-08-14T13:53:24.097246Z",
          "iopub.execute_input": "2021-08-14T13:53:24.097884Z",
          "iopub.status.idle": "2021-08-14T13:53:24.106047Z",
          "shell.execute_reply.started": "2021-08-14T13:53:24.097841Z",
          "shell.execute_reply": "2021-08-14T13:53:24.104488Z"
        },
        "trusted": true,
        "id": "7nGXluUh9gIr"
      },
      "source": [
        "from tensorflow.keras.callbacks import EarlyStopping, ModelCheckpoint\n",
        "\n",
        "callbacks = [\n",
        "    EarlyStopping(monitor=\"val_accuracy\",\n",
        "                 min_delta=1e-4,\n",
        "                 patience=5),\n",
        "    ModelCheckpoint(filepath=\"model.h5\",\n",
        "                   monitor=\"val_accuracy\",\n",
        "                   mode=\"max\",\n",
        "                   save_best_only=True)\n",
        "]"
      ],
      "execution_count": null,
      "outputs": []
    },
    {
      "cell_type": "code",
      "metadata": {
        "execution": {
          "iopub.status.busy": "2021-08-14T13:56:22.166893Z",
          "iopub.execute_input": "2021-08-14T13:56:22.167353Z",
          "iopub.status.idle": "2021-08-14T13:58:19.016128Z",
          "shell.execute_reply.started": "2021-08-14T13:56:22.167320Z",
          "shell.execute_reply": "2021-08-14T13:58:19.014954Z"
        },
        "trusted": true,
        "id": "eW9Psdwc9gIs",
        "outputId": "86459184-8d22-46cc-bb51-5fcbbc094ad3"
      },
      "source": [
        "# Model\n",
        "\n",
        "model = tf.keras.models.Sequential([\n",
        "  tf.keras.layers.Conv2D(32, 3, activation='relu', padding='same', input_shape=(28,28,1)),\n",
        "  tf.keras.layers.Conv2D(32, 3, activation='relu', padding='same'),\n",
        "  tf.keras.layers.BatchNormalization(),\n",
        "  tf.keras.layers.Conv2D(32, 3, activation='relu', padding='same'),\n",
        "  tf.keras.layers.Conv2D(32, 3, activation='relu', padding='same'),\n",
        "  tf.keras.layers.BatchNormalization(),\n",
        "  tf.keras.layers.MaxPooling2D(2),\n",
        "  tf.keras.layers.Dropout(0.3),\n",
        "  tf.keras.layers.Conv2D(64, 3, activation='relu', padding='same'),\n",
        "  tf.keras.layers.Conv2D(64, 3, activation='relu', padding='same'),\n",
        "  tf.keras.layers.BatchNormalization(),\n",
        "  tf.keras.layers.Conv2D(128, 3, activation='relu', padding='same'),\n",
        "  tf.keras.layers.Conv2D(128, 3, activation='relu', padding='same'),\n",
        "  tf.keras.layers.BatchNormalization(),\n",
        "  tf.keras.layers.MaxPooling2D(2),\n",
        "  tf.keras.layers.Dropout(0.3),\n",
        "  tf.keras.layers.Flatten(),\n",
        "  tf.keras.layers.Dense(256, activation='relu'),\n",
        "  tf.keras.layers.BatchNormalization(),\n",
        "  tf.keras.layers.Dropout(0.3),\n",
        "  tf.keras.layers.Dense(10, activation='softmax')\n",
        "])\n",
        "\n",
        "model.compile(loss = tf.keras.losses.categorical_crossentropy,\n",
        "              optimizer = tf.keras.optimizers.Adam(learning_rate=1e-4),\n",
        "              metrics = ['accuracy'])\n",
        "\n",
        "history = model.fit(X_train, y_train,\n",
        "                    validation_data = (X_val, y_val),\n",
        "                    epochs=500, batch_size=64,\n",
        "                    callbacks=[callbacks])"
      ],
      "execution_count": null,
      "outputs": [
        {
          "output_type": "stream",
          "text": [
            "Epoch 1/500\n",
            "525/525 [==============================] - 7s 12ms/step - loss: 0.9008 - accuracy: 0.7236 - val_loss: 1.7278 - val_accuracy: 0.5476\n",
            "Epoch 2/500\n",
            "525/525 [==============================] - 6s 11ms/step - loss: 0.1283 - accuracy: 0.9617 - val_loss: 0.0684 - val_accuracy: 0.9790\n",
            "Epoch 3/500\n",
            "525/525 [==============================] - 6s 11ms/step - loss: 0.0757 - accuracy: 0.9757 - val_loss: 0.0517 - val_accuracy: 0.9839\n",
            "Epoch 4/500\n",
            "525/525 [==============================] - 6s 11ms/step - loss: 0.0577 - accuracy: 0.9819 - val_loss: 0.0427 - val_accuracy: 0.9857\n",
            "Epoch 5/500\n",
            "525/525 [==============================] - 6s 12ms/step - loss: 0.0515 - accuracy: 0.9828 - val_loss: 0.0462 - val_accuracy: 0.9857\n",
            "Epoch 6/500\n",
            "525/525 [==============================] - 6s 11ms/step - loss: 0.0418 - accuracy: 0.9871 - val_loss: 0.0404 - val_accuracy: 0.9882\n",
            "Epoch 7/500\n",
            "525/525 [==============================] - 6s 11ms/step - loss: 0.0373 - accuracy: 0.9890 - val_loss: 0.0336 - val_accuracy: 0.9900\n",
            "Epoch 8/500\n",
            "525/525 [==============================] - 6s 11ms/step - loss: 0.0298 - accuracy: 0.9912 - val_loss: 0.0399 - val_accuracy: 0.9877\n",
            "Epoch 9/500\n",
            "525/525 [==============================] - 6s 11ms/step - loss: 0.0277 - accuracy: 0.9909 - val_loss: 0.0318 - val_accuracy: 0.9905\n",
            "Epoch 10/500\n",
            "525/525 [==============================] - 6s 11ms/step - loss: 0.0233 - accuracy: 0.9928 - val_loss: 0.0315 - val_accuracy: 0.9908\n",
            "Epoch 11/500\n",
            "525/525 [==============================] - 6s 11ms/step - loss: 0.0239 - accuracy: 0.9923 - val_loss: 0.0341 - val_accuracy: 0.9889\n",
            "Epoch 12/500\n",
            "525/525 [==============================] - 6s 11ms/step - loss: 0.0170 - accuracy: 0.9948 - val_loss: 0.0355 - val_accuracy: 0.9889\n",
            "Epoch 13/500\n",
            "525/525 [==============================] - 6s 11ms/step - loss: 0.0190 - accuracy: 0.9943 - val_loss: 0.0316 - val_accuracy: 0.9912\n",
            "Epoch 14/500\n",
            "525/525 [==============================] - 6s 11ms/step - loss: 0.0163 - accuracy: 0.9950 - val_loss: 0.0303 - val_accuracy: 0.9919\n",
            "Epoch 15/500\n",
            "525/525 [==============================] - 6s 11ms/step - loss: 0.0167 - accuracy: 0.9946 - val_loss: 0.0282 - val_accuracy: 0.9926\n",
            "Epoch 16/500\n",
            "525/525 [==============================] - 6s 11ms/step - loss: 0.0132 - accuracy: 0.9962 - val_loss: 0.0280 - val_accuracy: 0.9924\n",
            "Epoch 17/500\n",
            "525/525 [==============================] - 6s 11ms/step - loss: 0.0107 - accuracy: 0.9965 - val_loss: 0.0324 - val_accuracy: 0.9899\n",
            "Epoch 18/500\n",
            "525/525 [==============================] - 6s 11ms/step - loss: 0.0109 - accuracy: 0.9968 - val_loss: 0.0279 - val_accuracy: 0.9923\n",
            "Epoch 19/500\n",
            "525/525 [==============================] - 6s 10ms/step - loss: 0.0104 - accuracy: 0.9961 - val_loss: 0.0298 - val_accuracy: 0.9911\n",
            "Epoch 20/500\n",
            "525/525 [==============================] - 6s 11ms/step - loss: 0.0084 - accuracy: 0.9972 - val_loss: 0.0329 - val_accuracy: 0.9906\n"
          ],
          "name": "stdout"
        }
      ]
    },
    {
      "cell_type": "code",
      "metadata": {
        "execution": {
          "iopub.status.busy": "2021-08-14T13:58:29.506557Z",
          "iopub.execute_input": "2021-08-14T13:58:29.506990Z",
          "iopub.status.idle": "2021-08-14T13:58:29.881333Z",
          "shell.execute_reply.started": "2021-08-14T13:58:29.506957Z",
          "shell.execute_reply": "2021-08-14T13:58:29.880106Z"
        },
        "trusted": true,
        "id": "zaRPZKiC9gIs"
      },
      "source": [
        "model = tf.keras.models.load_model(\"model.h5\")"
      ],
      "execution_count": null,
      "outputs": []
    },
    {
      "cell_type": "code",
      "metadata": {
        "execution": {
          "iopub.status.busy": "2021-08-14T13:58:30.850529Z",
          "iopub.execute_input": "2021-08-14T13:58:30.851008Z",
          "iopub.status.idle": "2021-08-14T13:58:32.267487Z",
          "shell.execute_reply.started": "2021-08-14T13:58:30.850975Z",
          "shell.execute_reply": "2021-08-14T13:58:32.266350Z"
        },
        "trusted": true,
        "id": "jaVIIjnc9gIs",
        "outputId": "0da5e6a8-e20b-4a44-89e4-d0246c32fae6"
      },
      "source": [
        "model.evaluate(X_val, y_val)"
      ],
      "execution_count": null,
      "outputs": [
        {
          "output_type": "stream",
          "text": [
            "263/263 [==============================] - 1s 4ms/step - loss: 0.0282 - accuracy: 0.9926\n"
          ],
          "name": "stdout"
        },
        {
          "output_type": "execute_result",
          "data": {
            "text/plain": [
              "[0.028215475380420685, 0.9926190376281738]"
            ]
          },
          "metadata": {
            "tags": []
          },
          "execution_count": 47
        }
      ]
    },
    {
      "cell_type": "code",
      "metadata": {
        "execution": {
          "iopub.status.busy": "2021-08-14T13:58:39.089969Z",
          "iopub.execute_input": "2021-08-14T13:58:39.090373Z",
          "iopub.status.idle": "2021-08-14T13:58:41.413866Z",
          "shell.execute_reply.started": "2021-08-14T13:58:39.090339Z",
          "shell.execute_reply": "2021-08-14T13:58:41.412839Z"
        },
        "trusted": true,
        "id": "X2S03CyS9gIs",
        "outputId": "118c2f91-c0fd-4566-bf27-d246704fbc0d"
      },
      "source": [
        "preds = model.predict(X_test)\n",
        "preds[:5]"
      ],
      "execution_count": null,
      "outputs": [
        {
          "output_type": "execute_result",
          "data": {
            "text/plain": [
              "array([[4.66076031e-08, 5.32387956e-09, 1.00000000e+00, 2.51881325e-08,\n",
              "        1.59261528e-08, 1.34408651e-09, 1.98349692e-09, 1.09369429e-08,\n",
              "        8.28633695e-09, 1.71181946e-09],\n",
              "       [9.99998689e-01, 2.83576291e-08, 7.88675266e-07, 7.04655800e-09,\n",
              "        1.52917179e-09, 6.46969340e-08, 2.98268503e-07, 3.02101562e-08,\n",
              "        9.99321514e-09, 5.55009017e-08],\n",
              "       [6.39567645e-07, 2.41763416e-07, 2.88542560e-05, 8.93997367e-07,\n",
              "        3.96508316e-04, 1.63320479e-07, 9.17079390e-08, 1.29670767e-07,\n",
              "        1.41037075e-04, 9.99431431e-01],\n",
              "       [8.73131037e-01, 9.34101934e-07, 3.29408725e-03, 1.72665215e-03,\n",
              "        5.62272817e-06, 7.99833651e-05, 7.79396680e-04, 1.78685586e-04,\n",
              "        7.77681940e-04, 1.20025985e-01],\n",
              "       [5.11295397e-08, 3.20792779e-08, 1.38093610e-05, 9.99977827e-01,\n",
              "        1.61300733e-08, 8.35159213e-08, 6.80244838e-08, 1.04533491e-07,\n",
              "        7.66951962e-06, 2.91471167e-07]], dtype=float32)"
            ]
          },
          "metadata": {
            "tags": []
          },
          "execution_count": 48
        }
      ]
    },
    {
      "cell_type": "code",
      "metadata": {
        "execution": {
          "iopub.status.busy": "2021-08-14T13:58:41.417730Z",
          "iopub.execute_input": "2021-08-14T13:58:41.418097Z",
          "iopub.status.idle": "2021-08-14T13:58:41.428237Z",
          "shell.execute_reply.started": "2021-08-14T13:58:41.418022Z",
          "shell.execute_reply": "2021-08-14T13:58:41.426707Z"
        },
        "trusted": true,
        "id": "OSq-hJGc9gIs",
        "outputId": "2bbe0151-a001-41d4-d29e-e8328f06907d"
      },
      "source": [
        "results = tf.argmax(preds, axis=1)\n",
        "results[:5]"
      ],
      "execution_count": null,
      "outputs": [
        {
          "output_type": "execute_result",
          "data": {
            "text/plain": [
              "<tf.Tensor: shape=(5,), dtype=int64, numpy=array([2, 0, 9, 0, 3])>"
            ]
          },
          "metadata": {
            "tags": []
          },
          "execution_count": 49
        }
      ]
    },
    {
      "cell_type": "code",
      "metadata": {
        "execution": {
          "iopub.status.busy": "2021-08-14T13:58:41.431083Z",
          "iopub.execute_input": "2021-08-14T13:58:41.431946Z",
          "iopub.status.idle": "2021-08-14T13:58:41.500905Z",
          "shell.execute_reply.started": "2021-08-14T13:58:41.431895Z",
          "shell.execute_reply": "2021-08-14T13:58:41.499811Z"
        },
        "trusted": true,
        "id": "BU8kit5p9gIt"
      },
      "source": [
        "submit = pd.read_csv(\"/kaggle/input/digit-recognizer/sample_submission.csv\")\n",
        "submit['Label'] = results\n",
        "submit.to_csv(\"submit.csv\", index=False)"
      ],
      "execution_count": null,
      "outputs": []
    },
    {
      "cell_type": "code",
      "metadata": {
        "id": "0OCxnKi09gIt"
      },
      "source": [
        ""
      ],
      "execution_count": null,
      "outputs": []
    }
  ]
}